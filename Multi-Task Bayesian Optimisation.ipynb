{
 "cells": [
  {
   "cell_type": "code",
   "execution_count": 1,
   "id": "c5639fe6",
   "metadata": {},
   "outputs": [],
   "source": [
    "import numpy as np\n",
    "import GPy\n",
    "import GPyOpt\n",
    "import pandas as pd\n",
    "import matplotlib.pyplot as plt\n",
    "from matplotlib.ticker import MultipleLocator\n",
    "from scipy.integrate import odeint"
   ]
  },
  {
   "cell_type": "code",
   "execution_count": 2,
   "id": "68a78917",
   "metadata": {},
   "outputs": [],
   "source": [
    "def objective_function(x, sample=False):\n",
    "    if not sample:\n",
    "        x=x[0]\n",
    "    Time = x[0]\n",
    "    M = x[1]\n",
    "    I = x[2]\n",
    "    T = x[3]\n",
    "    task = x[4]\n",
    "    \n",
    "    t = np.arange(0,Time)\n",
    "    y0 = [M,I,0,0,0,0,0,0,0]\n",
    "    sol = odeint(FRP, y0, t, args=(T,))\n",
    "    end_ = sol.shape[0]-1\n",
    "    \n",
    "    if task == 0:\n",
    "        Mw= np.divide((sol[end_,8]+sol[end_,5])*86.03,(sol[end_,7]+sol[end_,4]))\n",
    "        return -Mw\n",
    "    else:\n",
    "        Mn = (sol[end_,7]+sol[end_,4])*86.03/(sol[end_,6]+sol[end_,3])\n",
    "        return -Mn\n",
    "\n",
    "\n",
    "def FRP(y,t,Temperature):\n",
    "    temp = Temperature+273;\n",
    "    fr=0.5; \n",
    "    kp=4.2E9*np.exp(-6300/(1.98*temp))\n",
    "    kd=2.7E16*np.exp(-30000/(1.98*temp))\n",
    "    ktc=1.62E12*np.exp(-2800/(1.98*temp))\n",
    "    kfm=4.957E8*np.exp(-10480/(1.98*temp));\n",
    "    kfp=5.177E8*np.exp(-11440/(1.98*temp));\n",
    "    ktd=0.0;\n",
    "    kdb=0.66*kp; \n",
    "    kfs=0.0;\n",
    "    \n",
    "    ydot = np.zeros(9)\n",
    "    \n",
    "    ydot[1-1]= -kp*y[4-1]*y[1-1]\n",
    "    ydot[2-1]= -kd*y[2-1]\n",
    "    ydot[3-1]= -kfs*y[4-1]*y[3-1]\n",
    "    ydot[4-1]= 2*fr*kd*y[2-1]-(ktc+ktd)*y[4-1]*y[4-1]\n",
    "    ydot[5-1]= 2*fr*kd*y[2-1]-(kfm*y[1-1]+kfs*y[3-1])*y[5-1]+kp*y[1-1]*y[4-1]-(ktc+ktd)*y[4-1]*y[5-1]+kfp*(y[4-1]*y[9-1]-y[5-1]*y[8-1])+kdb*y[4-1]*y[8-1]\n",
    "    if(y[8-1] == 0 or y[7-1] == 0):\n",
    "        ydot[6-1]= 2*fr*kd*y[2-1]-(kfm*y[1-1]+kfs*y[3-1])*y[6-1]+2*kp*y[1-1]*y[5-1]-(ktc+ktd)*y[4-1]*y[6-1]+kfp*(-y[6-1]*y[8-1])+kdb*(2*y[5-1]*y[8-1]+y[4-1]*y[9-1])\n",
    "    else:\n",
    "        ydot[6-1]= 2*fr*kd*y[2-1]-(kfm*y[1-1]+kfs*y[3-1])*y[6-1]+2*kp*y[1-1]*y[5-1]- \\\n",
    "                    (ktc+ktd)*y[4-1]*y[6-1]+kfp*(y[4-1]* \\\n",
    "                    ((y[9-1]/(y[8-1]*y[7-1]))*(2*y[9-1]*y[7-1]-y[8-1]*y[8-1]))-y[6-1]*y[8-1])+ \\\n",
    "                    kdb*(2*y[5-1]*y[8-1]+y[4-1]*y[9-1])\n",
    "\n",
    "\n",
    "    ydot[7-1]= (kfm*y[1-1]+kfs*y[3-1])*y[4-1]+(ktc/2+ktd)*y[4-1]*y[4-1]-kdb*y[4-1]*y[7-1]\n",
    "    ydot[8-1]= (kfm*y[1-1]+kfs*y[3-1])*y[5-1]+(ktc+ktd)*y[4-1]*y[5-1]-kdb*y[4-1]*y[8-1] \\\n",
    "                -kfp*(y[4-1]*y[9-1]-y[5-1]*y[8-1])\n",
    "    if(y[8-1] == 0 or y[7-1] == 0):\n",
    "        ydot[9-1]= (kfm*y[1-1]+kfs*y[3-1])*y[6-1]+(ktc+ktd)*y[4-1]*y[6-1]-kdb*y[4-1]*y[9-1] \\\n",
    "                    +ktc*y[5-1]*y[5-1]+kfp*(y[6-1]*y[8-1])\n",
    "    else:\n",
    "        ydot[9-1]= (kfm*y[1-1]+kfs*y[3-1])*y[6-1]+(ktc+ktd)*y[4-1]*y[6-1]-kdb*y[4-1]*y[9-1] \\\n",
    "                   +ktc*y[5-1]*y[5-1]-kfp*(y[4-1]*((y[9-1]/(y[8-1]*y[7-1]))* \\\n",
    "                   (2*y[9-1]*y[7-1]-y[8-1]*y[8-1]))-y[6-1]*y[8-1])\n",
    "        \n",
    "    dydt = ydot\n",
    "    \n",
    "    return dydt"
   ]
  },
  {
   "cell_type": "code",
   "execution_count": 3,
   "id": "8cd00827",
   "metadata": {},
   "outputs": [],
   "source": [
    "bounds = [{'name': 'Time', 'type': 'continuous', 'domain': (30,10000)},\n",
    "          {'name': 'M', 'type': 'continuous', 'domain': (10, 14)},\n",
    "          {'name': 'I', 'type': 'continuous', 'domain': (0.00003, 0.00015)},\n",
    "          {'name': 'T', 'type': 'continuous', 'domain': (60, 80)},\n",
    "          {'name': 'Task Number', 'type': 'discrete', 'domain': (0, 1)}]"
   ]
  },
  {
   "cell_type": "code",
   "execution_count": 4,
   "id": "63ce773d-a357-4f2d-914f-6ea418befb9c",
   "metadata": {},
   "outputs": [],
   "source": [
    "def random_sample(bounds, num_samples):\n",
    "\n",
    "    n_dim = len(bounds) - 1\n",
    "    samples = np.zeros((num_samples, n_dim))\n",
    "    \n",
    "    for i, bound in enumerate(bounds[:-1]): \n",
    "        samples[:, i] = np.random.uniform(bound['domain'][0], bound['domain'][1], num_samples)\n",
    "    \n",
    "    return samples\n",
    "\n",
    "def latin_hypercube_sample(bounds, n_samples):\n",
    "    \n",
    "    n_dim = len(bounds) - 1\n",
    "    samples = np.zeros((n_samples, n_dim))\n",
    "\n",
    "    for i in range(n_dim):\n",
    "        lower, upper = bounds[i][\"domain\"]\n",
    "        interval = np.linspace(lower, upper, n_samples + 1)\n",
    "        samples[:, i] = np.random.uniform(interval[:-1], interval[1:], n_samples)\n",
    "        \n",
    "    return samples\n",
    "\n",
    "\n",
    "task0_samples = 3\n",
    "task1_samples = 80\n",
    "\n",
    "random_sampling = True\n",
    "\n",
    "P1 = random_sample(bounds, task0_samples)\n",
    "\n",
    "if random_sampling:\n",
    "    P2 = random_sample(bounds, task1_samples)\n",
    "\n",
    "else:\n",
    "    P2 = latin_hypercube_sample(bounds, task1_samples)\n",
    "    \n",
    "X1 = np.hstack((P1, np.zeros(task0_samples).reshape(-1,1)))\n",
    "X2 = np.hstack((P2, np.ones(task1_samples).reshape(-1,1)))\n",
    "\n",
    "Y1 = np.array([objective_function(X, sample=True) for X in X1]).reshape(-1,1)\n",
    "Y2 = np.array([objective_function(X, sample=True) for X in X2]).reshape(-1,1)\n",
    "\n",
    "X = np.vstack((X1,X2))\n",
    "Y = np.vstack((Y1,Y2))"
   ]
  },
  {
   "cell_type": "code",
   "execution_count": 5,
   "id": "68be1e84",
   "metadata": {},
   "outputs": [],
   "source": [
    "kernel = GPy.kern.Matern52(4, ARD=True)\n",
    "kernel = GPy.util.multioutput.ICM(4, 2, kernel)"
   ]
  },
  {
   "cell_type": "code",
   "execution_count": 6,
   "id": "69ac2203",
   "metadata": {},
   "outputs": [],
   "source": [
    "objective = GPyOpt.core.task.SingleObjective(objective_function)\n",
    "\n",
    "surrogate_model = GPyOpt.models.GPModel(kernel, verbose=False)\n",
    "\n",
    "search_space = GPyOpt.Design_space(bounds)\n",
    "\n",
    "acquisition_optimizer = GPyOpt.optimization.AcquisitionOptimizer(search_space, 'lbfgs')\n",
    "\n",
    "acquisition = GPyOpt.acquisitions.AcquisitionLCB(surrogate_model, search_space, acquisition_optimizer)\n",
    " \n",
    "evaluator = GPyOpt.core.evaluators.Sequential(acquisition)\n",
    "\n",
    "bo = GPyOpt.methods.ModularBayesianOptimization(surrogate_model, search_space, objective, acquisition, \n",
    "                                                evaluator, X, Y, normalize_Y=True)"
   ]
  },
  {
   "cell_type": "code",
   "execution_count": 7,
   "id": "95cc9ee2-fb4e-44c1-b8ad-bff3e3df8cdd",
   "metadata": {},
   "outputs": [],
   "source": [
    "bo.run_optimization(30)"
   ]
  },
  {
   "cell_type": "code",
   "execution_count": 8,
   "id": "de5a1fcd",
   "metadata": {},
   "outputs": [],
   "source": [
    "bo.save_evaluations(\"multi_task_evaluations.csv\")"
   ]
  },
  {
   "cell_type": "code",
   "execution_count": 9,
   "id": "6aa6deb9-74fe-407a-94a5-34c02759a5bb",
   "metadata": {},
   "outputs": [
    {
     "data": {
      "image/png": "[encoded data removed]",
      "text/plain": [
       "<Figure size 640x480 with 1 Axes>"
      ]
     },
     "metadata": {},
     "output_type": "display_data"
    }
   ],
   "source": [
    "df = pd.read_csv(\"multi_task_evaluations.csv\", sep='\\t')\n",
    "filtered_df = df[df['var_5'] == 0]\n",
    "df = filtered_df[[\"Y\"]]\n",
    "df.reset_index(inplace=True, drop=True)\n",
    "num_rows = len(df)\n",
    "df['Iteration'] = pd.Series(range(1, num_rows + 1))\n",
    "\n",
    "min_y = float('inf')\n",
    "min_iteration = None\n",
    "\n",
    "iterations = []\n",
    "min_y_values = []\n",
    "\n",
    "for index, row in df.iterrows():\n",
    "    if row['Y'] < min_y:\n",
    "        min_y = row['Y']\n",
    "        min_iteration = row['Iteration']\n",
    "    \n",
    "    iterations.append(row['Iteration'])\n",
    "    min_y_values.append(-min_y)\n",
    "\n",
    "plt.plot(iterations, min_y_values, marker='o', linestyle='-')\n",
    "\n",
    "plt.gca().xaxis.set_major_locator(MultipleLocator(2))\n",
    "\n",
    "plt.xlabel('Evaluation Mw')\n",
    "plt.ylabel('Maximum Mw (gm/mole)')\n",
    "plt.title('Plot of Maximum Mw vs Evaluation Mw')\n",
    "plt.grid(True)\n",
    "plt.show()"
   ]
  }
 ],
 "metadata": {
  "kernelspec": {
   "display_name": "Python 3 (ipykernel)",
   "language": "python",
   "name": "python3"
  },
  "language_info": {
   "codemirror_mode": {
    "name": "ipython",
    "version": 3
   },
   "file_extension": ".py",
   "mimetype": "text/x-python",
   "name": "python",
   "nbconvert_exporter": "python",
   "pygments_lexer": "ipython3",
   "version": "3.11.8"
  }
 },
 "nbformat": 4,
 "nbformat_minor": 5
}
